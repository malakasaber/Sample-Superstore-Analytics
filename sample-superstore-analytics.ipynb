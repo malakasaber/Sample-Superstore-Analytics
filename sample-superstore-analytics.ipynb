{
 "cells": [
  {
   "cell_type": "code",
   "execution_count": 1,
   "metadata": {
    "_cell_guid": "b1076dfc-b9ad-4769-8c92-a6c4dae69d19",
    "_uuid": "8f2839f25d086af736a60e9eeb907d3b93b6e0e5"
   },
   "outputs": [],
   "source": [
    "import pandas as pd"
   ]
  },
  {
   "cell_type": "code",
   "execution_count": 3,
   "metadata": {},
   "outputs": [
    {
     "ename": "FileNotFoundError",
     "evalue": "[Errno 2] No such file or directory: '/kaggle/input/sample-supermarket-dataset/SampleSuperstore.csv'",
     "output_type": "error",
     "traceback": [
      "\u001b[1;31m---------------------------------------------------------------------------\u001b[0m",
      "\u001b[1;31mFileNotFoundError\u001b[0m                         Traceback (most recent call last)",
      "Cell \u001b[1;32mIn[3], line 1\u001b[0m\n\u001b[1;32m----> 1\u001b[0m data \u001b[38;5;241m=\u001b[39m pd\u001b[38;5;241m.\u001b[39mread_csv(\u001b[38;5;124m'\u001b[39m\u001b[38;5;124m/kaggle/input/sample-supermarket-dataset/SampleSuperstore.csv\u001b[39m\u001b[38;5;124m'\u001b[39m)\n",
      "File \u001b[1;32m~\\anaconda3\\Lib\\site-packages\\pandas\\io\\parsers\\readers.py:1026\u001b[0m, in \u001b[0;36mread_csv\u001b[1;34m(filepath_or_buffer, sep, delimiter, header, names, index_col, usecols, dtype, engine, converters, true_values, false_values, skipinitialspace, skiprows, skipfooter, nrows, na_values, keep_default_na, na_filter, verbose, skip_blank_lines, parse_dates, infer_datetime_format, keep_date_col, date_parser, date_format, dayfirst, cache_dates, iterator, chunksize, compression, thousands, decimal, lineterminator, quotechar, quoting, doublequote, escapechar, comment, encoding, encoding_errors, dialect, on_bad_lines, delim_whitespace, low_memory, memory_map, float_precision, storage_options, dtype_backend)\u001b[0m\n\u001b[0;32m   1013\u001b[0m kwds_defaults \u001b[38;5;241m=\u001b[39m _refine_defaults_read(\n\u001b[0;32m   1014\u001b[0m     dialect,\n\u001b[0;32m   1015\u001b[0m     delimiter,\n\u001b[1;32m   (...)\u001b[0m\n\u001b[0;32m   1022\u001b[0m     dtype_backend\u001b[38;5;241m=\u001b[39mdtype_backend,\n\u001b[0;32m   1023\u001b[0m )\n\u001b[0;32m   1024\u001b[0m kwds\u001b[38;5;241m.\u001b[39mupdate(kwds_defaults)\n\u001b[1;32m-> 1026\u001b[0m \u001b[38;5;28;01mreturn\u001b[39;00m _read(filepath_or_buffer, kwds)\n",
      "File \u001b[1;32m~\\anaconda3\\Lib\\site-packages\\pandas\\io\\parsers\\readers.py:620\u001b[0m, in \u001b[0;36m_read\u001b[1;34m(filepath_or_buffer, kwds)\u001b[0m\n\u001b[0;32m    617\u001b[0m _validate_names(kwds\u001b[38;5;241m.\u001b[39mget(\u001b[38;5;124m\"\u001b[39m\u001b[38;5;124mnames\u001b[39m\u001b[38;5;124m\"\u001b[39m, \u001b[38;5;28;01mNone\u001b[39;00m))\n\u001b[0;32m    619\u001b[0m \u001b[38;5;66;03m# Create the parser.\u001b[39;00m\n\u001b[1;32m--> 620\u001b[0m parser \u001b[38;5;241m=\u001b[39m TextFileReader(filepath_or_buffer, \u001b[38;5;241m*\u001b[39m\u001b[38;5;241m*\u001b[39mkwds)\n\u001b[0;32m    622\u001b[0m \u001b[38;5;28;01mif\u001b[39;00m chunksize \u001b[38;5;129;01mor\u001b[39;00m iterator:\n\u001b[0;32m    623\u001b[0m     \u001b[38;5;28;01mreturn\u001b[39;00m parser\n",
      "File \u001b[1;32m~\\anaconda3\\Lib\\site-packages\\pandas\\io\\parsers\\readers.py:1620\u001b[0m, in \u001b[0;36mTextFileReader.__init__\u001b[1;34m(self, f, engine, **kwds)\u001b[0m\n\u001b[0;32m   1617\u001b[0m     \u001b[38;5;28mself\u001b[39m\u001b[38;5;241m.\u001b[39moptions[\u001b[38;5;124m\"\u001b[39m\u001b[38;5;124mhas_index_names\u001b[39m\u001b[38;5;124m\"\u001b[39m] \u001b[38;5;241m=\u001b[39m kwds[\u001b[38;5;124m\"\u001b[39m\u001b[38;5;124mhas_index_names\u001b[39m\u001b[38;5;124m\"\u001b[39m]\n\u001b[0;32m   1619\u001b[0m \u001b[38;5;28mself\u001b[39m\u001b[38;5;241m.\u001b[39mhandles: IOHandles \u001b[38;5;241m|\u001b[39m \u001b[38;5;28;01mNone\u001b[39;00m \u001b[38;5;241m=\u001b[39m \u001b[38;5;28;01mNone\u001b[39;00m\n\u001b[1;32m-> 1620\u001b[0m \u001b[38;5;28mself\u001b[39m\u001b[38;5;241m.\u001b[39m_engine \u001b[38;5;241m=\u001b[39m \u001b[38;5;28mself\u001b[39m\u001b[38;5;241m.\u001b[39m_make_engine(f, \u001b[38;5;28mself\u001b[39m\u001b[38;5;241m.\u001b[39mengine)\n",
      "File \u001b[1;32m~\\anaconda3\\Lib\\site-packages\\pandas\\io\\parsers\\readers.py:1880\u001b[0m, in \u001b[0;36mTextFileReader._make_engine\u001b[1;34m(self, f, engine)\u001b[0m\n\u001b[0;32m   1878\u001b[0m     \u001b[38;5;28;01mif\u001b[39;00m \u001b[38;5;124m\"\u001b[39m\u001b[38;5;124mb\u001b[39m\u001b[38;5;124m\"\u001b[39m \u001b[38;5;129;01mnot\u001b[39;00m \u001b[38;5;129;01min\u001b[39;00m mode:\n\u001b[0;32m   1879\u001b[0m         mode \u001b[38;5;241m+\u001b[39m\u001b[38;5;241m=\u001b[39m \u001b[38;5;124m\"\u001b[39m\u001b[38;5;124mb\u001b[39m\u001b[38;5;124m\"\u001b[39m\n\u001b[1;32m-> 1880\u001b[0m \u001b[38;5;28mself\u001b[39m\u001b[38;5;241m.\u001b[39mhandles \u001b[38;5;241m=\u001b[39m get_handle(\n\u001b[0;32m   1881\u001b[0m     f,\n\u001b[0;32m   1882\u001b[0m     mode,\n\u001b[0;32m   1883\u001b[0m     encoding\u001b[38;5;241m=\u001b[39m\u001b[38;5;28mself\u001b[39m\u001b[38;5;241m.\u001b[39moptions\u001b[38;5;241m.\u001b[39mget(\u001b[38;5;124m\"\u001b[39m\u001b[38;5;124mencoding\u001b[39m\u001b[38;5;124m\"\u001b[39m, \u001b[38;5;28;01mNone\u001b[39;00m),\n\u001b[0;32m   1884\u001b[0m     compression\u001b[38;5;241m=\u001b[39m\u001b[38;5;28mself\u001b[39m\u001b[38;5;241m.\u001b[39moptions\u001b[38;5;241m.\u001b[39mget(\u001b[38;5;124m\"\u001b[39m\u001b[38;5;124mcompression\u001b[39m\u001b[38;5;124m\"\u001b[39m, \u001b[38;5;28;01mNone\u001b[39;00m),\n\u001b[0;32m   1885\u001b[0m     memory_map\u001b[38;5;241m=\u001b[39m\u001b[38;5;28mself\u001b[39m\u001b[38;5;241m.\u001b[39moptions\u001b[38;5;241m.\u001b[39mget(\u001b[38;5;124m\"\u001b[39m\u001b[38;5;124mmemory_map\u001b[39m\u001b[38;5;124m\"\u001b[39m, \u001b[38;5;28;01mFalse\u001b[39;00m),\n\u001b[0;32m   1886\u001b[0m     is_text\u001b[38;5;241m=\u001b[39mis_text,\n\u001b[0;32m   1887\u001b[0m     errors\u001b[38;5;241m=\u001b[39m\u001b[38;5;28mself\u001b[39m\u001b[38;5;241m.\u001b[39moptions\u001b[38;5;241m.\u001b[39mget(\u001b[38;5;124m\"\u001b[39m\u001b[38;5;124mencoding_errors\u001b[39m\u001b[38;5;124m\"\u001b[39m, \u001b[38;5;124m\"\u001b[39m\u001b[38;5;124mstrict\u001b[39m\u001b[38;5;124m\"\u001b[39m),\n\u001b[0;32m   1888\u001b[0m     storage_options\u001b[38;5;241m=\u001b[39m\u001b[38;5;28mself\u001b[39m\u001b[38;5;241m.\u001b[39moptions\u001b[38;5;241m.\u001b[39mget(\u001b[38;5;124m\"\u001b[39m\u001b[38;5;124mstorage_options\u001b[39m\u001b[38;5;124m\"\u001b[39m, \u001b[38;5;28;01mNone\u001b[39;00m),\n\u001b[0;32m   1889\u001b[0m )\n\u001b[0;32m   1890\u001b[0m \u001b[38;5;28;01massert\u001b[39;00m \u001b[38;5;28mself\u001b[39m\u001b[38;5;241m.\u001b[39mhandles \u001b[38;5;129;01mis\u001b[39;00m \u001b[38;5;129;01mnot\u001b[39;00m \u001b[38;5;28;01mNone\u001b[39;00m\n\u001b[0;32m   1891\u001b[0m f \u001b[38;5;241m=\u001b[39m \u001b[38;5;28mself\u001b[39m\u001b[38;5;241m.\u001b[39mhandles\u001b[38;5;241m.\u001b[39mhandle\n",
      "File \u001b[1;32m~\\anaconda3\\Lib\\site-packages\\pandas\\io\\common.py:873\u001b[0m, in \u001b[0;36mget_handle\u001b[1;34m(path_or_buf, mode, encoding, compression, memory_map, is_text, errors, storage_options)\u001b[0m\n\u001b[0;32m    868\u001b[0m \u001b[38;5;28;01melif\u001b[39;00m \u001b[38;5;28misinstance\u001b[39m(handle, \u001b[38;5;28mstr\u001b[39m):\n\u001b[0;32m    869\u001b[0m     \u001b[38;5;66;03m# Check whether the filename is to be opened in binary mode.\u001b[39;00m\n\u001b[0;32m    870\u001b[0m     \u001b[38;5;66;03m# Binary mode does not support 'encoding' and 'newline'.\u001b[39;00m\n\u001b[0;32m    871\u001b[0m     \u001b[38;5;28;01mif\u001b[39;00m ioargs\u001b[38;5;241m.\u001b[39mencoding \u001b[38;5;129;01mand\u001b[39;00m \u001b[38;5;124m\"\u001b[39m\u001b[38;5;124mb\u001b[39m\u001b[38;5;124m\"\u001b[39m \u001b[38;5;129;01mnot\u001b[39;00m \u001b[38;5;129;01min\u001b[39;00m ioargs\u001b[38;5;241m.\u001b[39mmode:\n\u001b[0;32m    872\u001b[0m         \u001b[38;5;66;03m# Encoding\u001b[39;00m\n\u001b[1;32m--> 873\u001b[0m         handle \u001b[38;5;241m=\u001b[39m \u001b[38;5;28mopen\u001b[39m(\n\u001b[0;32m    874\u001b[0m             handle,\n\u001b[0;32m    875\u001b[0m             ioargs\u001b[38;5;241m.\u001b[39mmode,\n\u001b[0;32m    876\u001b[0m             encoding\u001b[38;5;241m=\u001b[39mioargs\u001b[38;5;241m.\u001b[39mencoding,\n\u001b[0;32m    877\u001b[0m             errors\u001b[38;5;241m=\u001b[39merrors,\n\u001b[0;32m    878\u001b[0m             newline\u001b[38;5;241m=\u001b[39m\u001b[38;5;124m\"\u001b[39m\u001b[38;5;124m\"\u001b[39m,\n\u001b[0;32m    879\u001b[0m         )\n\u001b[0;32m    880\u001b[0m     \u001b[38;5;28;01melse\u001b[39;00m:\n\u001b[0;32m    881\u001b[0m         \u001b[38;5;66;03m# Binary mode\u001b[39;00m\n\u001b[0;32m    882\u001b[0m         handle \u001b[38;5;241m=\u001b[39m \u001b[38;5;28mopen\u001b[39m(handle, ioargs\u001b[38;5;241m.\u001b[39mmode)\n",
      "\u001b[1;31mFileNotFoundError\u001b[0m: [Errno 2] No such file or directory: '/kaggle/input/sample-supermarket-dataset/SampleSuperstore.csv'"
     ]
    }
   ],
   "source": [
    "data = pd.read_csv('/kaggle/input/sample-supermarket-dataset/SampleSuperstore.csv')"
   ]
  },
  {
   "cell_type": "code",
   "execution_count": null,
   "metadata": {
    "execution": {
     "iopub.execute_input": "2025-02-14T12:57:21.145476Z",
     "iopub.status.busy": "2025-02-14T12:57:21.145106Z",
     "iopub.status.idle": "2025-02-14T12:57:21.188833Z",
     "shell.execute_reply": "2025-02-14T12:57:21.187689Z",
     "shell.execute_reply.started": "2025-02-14T12:57:21.145447Z"
    }
   },
   "outputs": [],
   "source": [
    "data.head()"
   ]
  },
  {
   "cell_type": "code",
   "execution_count": null,
   "metadata": {
    "execution": {
     "iopub.execute_input": "2025-02-14T12:57:21.814793Z",
     "iopub.status.busy": "2025-02-14T12:57:21.814344Z",
     "iopub.status.idle": "2025-02-14T12:57:21.822134Z",
     "shell.execute_reply": "2025-02-14T12:57:21.820519Z",
     "shell.execute_reply.started": "2025-02-14T12:57:21.814762Z"
    }
   },
   "outputs": [],
   "source": [
    "data.shape[0]"
   ]
  },
  {
   "cell_type": "code",
   "execution_count": null,
   "metadata": {
    "execution": {
     "iopub.execute_input": "2025-02-14T12:57:24.287908Z",
     "iopub.status.busy": "2025-02-14T12:57:24.287546Z",
     "iopub.status.idle": "2025-02-14T12:57:24.294191Z",
     "shell.execute_reply": "2025-02-14T12:57:24.292914Z",
     "shell.execute_reply.started": "2025-02-14T12:57:24.287877Z"
    }
   },
   "outputs": [],
   "source": [
    "data.shape[1]"
   ]
  },
  {
   "cell_type": "code",
   "execution_count": null,
   "metadata": {
    "execution": {
     "iopub.execute_input": "2025-02-14T12:57:26.320892Z",
     "iopub.status.busy": "2025-02-14T12:57:26.320558Z",
     "iopub.status.idle": "2025-02-14T12:57:26.359198Z",
     "shell.execute_reply": "2025-02-14T12:57:26.357801Z",
     "shell.execute_reply.started": "2025-02-14T12:57:26.320865Z"
    }
   },
   "outputs": [],
   "source": [
    "data.info()"
   ]
  },
  {
   "cell_type": "code",
   "execution_count": null,
   "metadata": {
    "execution": {
     "iopub.execute_input": "2025-02-14T12:57:27.602259Z",
     "iopub.status.busy": "2025-02-14T12:57:27.601917Z",
     "iopub.status.idle": "2025-02-14T12:57:27.633556Z",
     "shell.execute_reply": "2025-02-14T12:57:27.632381Z",
     "shell.execute_reply.started": "2025-02-14T12:57:27.602233Z"
    }
   },
   "outputs": [],
   "source": [
    "data.describe()"
   ]
  },
  {
   "cell_type": "code",
   "execution_count": null,
   "metadata": {
    "execution": {
     "iopub.execute_input": "2025-02-14T12:57:29.264117Z",
     "iopub.status.busy": "2025-02-14T12:57:29.263798Z",
     "iopub.status.idle": "2025-02-14T12:57:29.300677Z",
     "shell.execute_reply": "2025-02-14T12:57:29.299491Z",
     "shell.execute_reply.started": "2025-02-14T12:57:29.264091Z"
    }
   },
   "outputs": [],
   "source": [
    "data.describe(include='O')"
   ]
  },
  {
   "cell_type": "code",
   "execution_count": null,
   "metadata": {
    "execution": {
     "iopub.execute_input": "2025-02-14T12:57:32.254781Z",
     "iopub.status.busy": "2025-02-14T12:57:32.254324Z",
     "iopub.status.idle": "2025-02-14T12:57:32.272756Z",
     "shell.execute_reply": "2025-02-14T12:57:32.271666Z",
     "shell.execute_reply.started": "2025-02-14T12:57:32.254750Z"
    }
   },
   "outputs": [],
   "source": [
    "data.duplicated().sum()"
   ]
  },
  {
   "cell_type": "code",
   "execution_count": null,
   "metadata": {
    "execution": {
     "iopub.execute_input": "2025-02-14T12:57:37.190262Z",
     "iopub.status.busy": "2025-02-14T12:57:37.189890Z",
     "iopub.status.idle": "2025-02-14T12:57:37.226356Z",
     "shell.execute_reply": "2025-02-14T12:57:37.225127Z",
     "shell.execute_reply.started": "2025-02-14T12:57:37.190230Z"
    }
   },
   "outputs": [],
   "source": [
    "data [data.duplicated()]"
   ]
  },
  {
   "cell_type": "code",
   "execution_count": null,
   "metadata": {
    "execution": {
     "iopub.execute_input": "2025-02-14T12:57:42.383751Z",
     "iopub.status.busy": "2025-02-14T12:57:42.383335Z",
     "iopub.status.idle": "2025-02-14T12:57:42.399916Z",
     "shell.execute_reply": "2025-02-14T12:57:42.398743Z",
     "shell.execute_reply.started": "2025-02-14T12:57:42.383723Z"
    }
   },
   "outputs": [],
   "source": [
    "data.drop_duplicates(inplace = True)"
   ]
  },
  {
   "cell_type": "code",
   "execution_count": null,
   "metadata": {
    "execution": {
     "iopub.execute_input": "2025-02-14T12:57:45.877262Z",
     "iopub.status.busy": "2025-02-14T12:57:45.876886Z",
     "iopub.status.idle": "2025-02-14T12:57:45.896566Z",
     "shell.execute_reply": "2025-02-14T12:57:45.895412Z",
     "shell.execute_reply.started": "2025-02-14T12:57:45.877229Z"
    }
   },
   "outputs": [],
   "source": [
    "data.duplicated().sum()"
   ]
  },
  {
   "cell_type": "code",
   "execution_count": null,
   "metadata": {
    "execution": {
     "iopub.execute_input": "2025-02-14T12:57:47.492165Z",
     "iopub.status.busy": "2025-02-14T12:57:47.491814Z",
     "iopub.status.idle": "2025-02-14T12:57:47.505766Z",
     "shell.execute_reply": "2025-02-14T12:57:47.504536Z",
     "shell.execute_reply.started": "2025-02-14T12:57:47.492136Z"
    }
   },
   "outputs": [],
   "source": [
    "data.isna().sum()"
   ]
  },
  {
   "cell_type": "code",
   "execution_count": null,
   "metadata": {
    "execution": {
     "iopub.execute_input": "2025-02-14T12:57:51.948644Z",
     "iopub.status.busy": "2025-02-14T12:57:51.948106Z",
     "iopub.status.idle": "2025-02-14T12:57:51.976799Z",
     "shell.execute_reply": "2025-02-14T12:57:51.975209Z",
     "shell.execute_reply.started": "2025-02-14T12:57:51.948609Z"
    }
   },
   "outputs": [],
   "source": [
    "data.describe()"
   ]
  },
  {
   "cell_type": "code",
   "execution_count": null,
   "metadata": {
    "execution": {
     "iopub.execute_input": "2025-02-14T12:57:53.817237Z",
     "iopub.status.busy": "2025-02-14T12:57:53.816886Z",
     "iopub.status.idle": "2025-02-14T12:57:53.823932Z",
     "shell.execute_reply": "2025-02-14T12:57:53.822361Z",
     "shell.execute_reply.started": "2025-02-14T12:57:53.817210Z"
    }
   },
   "outputs": [],
   "source": [
    "numerical_cols = data.select_dtypes('number')"
   ]
  },
  {
   "cell_type": "code",
   "execution_count": null,
   "metadata": {
    "execution": {
     "iopub.execute_input": "2025-02-14T12:57:54.453894Z",
     "iopub.status.busy": "2025-02-14T12:57:54.453549Z",
     "iopub.status.idle": "2025-02-14T12:57:54.468010Z",
     "shell.execute_reply": "2025-02-14T12:57:54.466928Z",
     "shell.execute_reply.started": "2025-02-14T12:57:54.453869Z"
    }
   },
   "outputs": [],
   "source": [
    "numerical_cols"
   ]
  },
  {
   "cell_type": "code",
   "execution_count": null,
   "metadata": {
    "execution": {
     "iopub.execute_input": "2025-02-14T12:57:56.602171Z",
     "iopub.status.busy": "2025-02-14T12:57:56.601828Z",
     "iopub.status.idle": "2025-02-14T12:57:56.607325Z",
     "shell.execute_reply": "2025-02-14T12:57:56.605653Z",
     "shell.execute_reply.started": "2025-02-14T12:57:56.602145Z"
    }
   },
   "outputs": [],
   "source": [
    "cols_with_outliers = []"
   ]
  },
  {
   "cell_type": "code",
   "execution_count": null,
   "metadata": {
    "execution": {
     "iopub.execute_input": "2025-02-14T12:57:58.200048Z",
     "iopub.status.busy": "2025-02-14T12:57:58.199682Z",
     "iopub.status.idle": "2025-02-14T12:57:58.205773Z",
     "shell.execute_reply": "2025-02-14T12:57:58.204538Z",
     "shell.execute_reply.started": "2025-02-14T12:57:58.200018Z"
    }
   },
   "outputs": [],
   "source": [
    "def displayOutliers(upper,lower,col):\n",
    "    outliers = data[(data[col] > upper) | (data[col] < lower)]\n",
    "    if not outliers.empty:\n",
    "        cols_with_outliers.append(col)\n",
    "        print(f\"Outliers in {col}:\")\n",
    "        print(outliers[col])"
   ]
  },
  {
   "cell_type": "code",
   "execution_count": null,
   "metadata": {
    "execution": {
     "iopub.execute_input": "2025-02-14T12:57:58.872778Z",
     "iopub.status.busy": "2025-02-14T12:57:58.872336Z",
     "iopub.status.idle": "2025-02-14T12:57:58.903051Z",
     "shell.execute_reply": "2025-02-14T12:57:58.901679Z",
     "shell.execute_reply.started": "2025-02-14T12:57:58.872748Z"
    }
   },
   "outputs": [],
   "source": [
    "for col in numerical_cols:\n",
    "    Q3 = data[col].quantile(0.75)\n",
    "    Q1 = data[col].quantile(0.25)\n",
    "    IQR = Q3 - Q1\n",
    "    upper = Q3 + 1.5*IQR\n",
    "    lower = Q1 - 1.5*IQR\n",
    "    displayOutliers(upper,lower,col)"
   ]
  },
  {
   "cell_type": "code",
   "execution_count": null,
   "metadata": {
    "execution": {
     "iopub.execute_input": "2025-02-14T12:58:05.013866Z",
     "iopub.status.busy": "2025-02-14T12:58:05.013533Z",
     "iopub.status.idle": "2025-02-14T12:58:05.020675Z",
     "shell.execute_reply": "2025-02-14T12:58:05.019349Z",
     "shell.execute_reply.started": "2025-02-14T12:58:05.013840Z"
    }
   },
   "outputs": [],
   "source": [
    "cols_with_outliers"
   ]
  },
  {
   "cell_type": "code",
   "execution_count": null,
   "metadata": {
    "execution": {
     "iopub.execute_input": "2025-02-14T12:58:06.463802Z",
     "iopub.status.busy": "2025-02-14T12:58:06.463362Z",
     "iopub.status.idle": "2025-02-14T12:58:07.452243Z",
     "shell.execute_reply": "2025-02-14T12:58:07.451045Z",
     "shell.execute_reply.started": "2025-02-14T12:58:06.463770Z"
    }
   },
   "outputs": [],
   "source": [
    "import seaborn as sns\n",
    "import matplotlib.pyplot as plt"
   ]
  },
  {
   "cell_type": "code",
   "execution_count": null,
   "metadata": {
    "execution": {
     "iopub.execute_input": "2025-02-14T12:58:07.454029Z",
     "iopub.status.busy": "2025-02-14T12:58:07.453585Z",
     "iopub.status.idle": "2025-02-14T12:58:08.066670Z",
     "shell.execute_reply": "2025-02-14T12:58:08.065199Z",
     "shell.execute_reply.started": "2025-02-14T12:58:07.454000Z"
    }
   },
   "outputs": [],
   "source": [
    "for col in cols_with_outliers:\n",
    "    plt.figure(figsize=(5,3))\n",
    "    sns.boxplot(data=data, x=col)\n",
    "    plt.show()"
   ]
  },
  {
   "cell_type": "code",
   "execution_count": null,
   "metadata": {
    "execution": {
     "iopub.execute_input": "2025-02-14T12:58:10.058173Z",
     "iopub.status.busy": "2025-02-14T12:58:10.057799Z",
     "iopub.status.idle": "2025-02-14T12:58:10.081031Z",
     "shell.execute_reply": "2025-02-14T12:58:10.079896Z",
     "shell.execute_reply.started": "2025-02-14T12:58:10.058138Z"
    }
   },
   "outputs": [],
   "source": [
    "for col in cols_with_outliers:\n",
    "    print(data[col].describe())"
   ]
  },
  {
   "cell_type": "code",
   "execution_count": null,
   "metadata": {
    "execution": {
     "iopub.execute_input": "2025-02-14T12:58:13.969990Z",
     "iopub.status.busy": "2025-02-14T12:58:13.969594Z",
     "iopub.status.idle": "2025-02-14T12:58:13.978016Z",
     "shell.execute_reply": "2025-02-14T12:58:13.976769Z",
     "shell.execute_reply.started": "2025-02-14T12:58:13.969960Z"
    }
   },
   "outputs": [],
   "source": [
    "data.dtypes"
   ]
  },
  {
   "cell_type": "code",
   "execution_count": null,
   "metadata": {
    "execution": {
     "iopub.execute_input": "2025-02-14T12:58:16.674777Z",
     "iopub.status.busy": "2025-02-14T12:58:16.674364Z",
     "iopub.status.idle": "2025-02-14T12:58:16.684339Z",
     "shell.execute_reply": "2025-02-14T12:58:16.682885Z",
     "shell.execute_reply.started": "2025-02-14T12:58:16.674749Z"
    }
   },
   "outputs": [],
   "source": [
    "data['Postal Code'] = data['Postal Code'].astype(str)"
   ]
  },
  {
   "cell_type": "code",
   "execution_count": null,
   "metadata": {
    "execution": {
     "iopub.execute_input": "2025-02-14T12:58:17.951559Z",
     "iopub.status.busy": "2025-02-14T12:58:17.951145Z",
     "iopub.status.idle": "2025-02-14T12:58:17.959607Z",
     "shell.execute_reply": "2025-02-14T12:58:17.958560Z",
     "shell.execute_reply.started": "2025-02-14T12:58:17.951529Z"
    }
   },
   "outputs": [],
   "source": [
    "data.dtypes"
   ]
  },
  {
   "cell_type": "markdown",
   "metadata": {},
   "source": [
    "<h2>Uni-varient Analysis</h2>"
   ]
  },
  {
   "cell_type": "code",
   "execution_count": null,
   "metadata": {
    "execution": {
     "iopub.execute_input": "2025-02-14T12:58:20.289377Z",
     "iopub.status.busy": "2025-02-14T12:58:20.289034Z",
     "iopub.status.idle": "2025-02-14T12:58:20.302915Z",
     "shell.execute_reply": "2025-02-14T12:58:20.301988Z",
     "shell.execute_reply.started": "2025-02-14T12:58:20.289350Z"
    }
   },
   "outputs": [],
   "source": [
    "numerical_cols"
   ]
  },
  {
   "cell_type": "code",
   "execution_count": null,
   "metadata": {
    "execution": {
     "iopub.execute_input": "2025-02-14T12:58:23.450689Z",
     "iopub.status.busy": "2025-02-14T12:58:23.450270Z",
     "iopub.status.idle": "2025-02-14T12:58:23.458715Z",
     "shell.execute_reply": "2025-02-14T12:58:23.457247Z",
     "shell.execute_reply.started": "2025-02-14T12:58:23.450659Z"
    }
   },
   "outputs": [],
   "source": [
    "categorical_cols = data.drop(columns = numerical_cols)"
   ]
  },
  {
   "cell_type": "code",
   "execution_count": null,
   "metadata": {
    "execution": {
     "iopub.execute_input": "2025-02-14T12:58:23.460847Z",
     "iopub.status.busy": "2025-02-14T12:58:23.460471Z",
     "iopub.status.idle": "2025-02-14T12:58:23.492261Z",
     "shell.execute_reply": "2025-02-14T12:58:23.491057Z",
     "shell.execute_reply.started": "2025-02-14T12:58:23.460804Z"
    }
   },
   "outputs": [],
   "source": [
    "categorical_cols"
   ]
  },
  {
   "cell_type": "code",
   "execution_count": null,
   "metadata": {
    "execution": {
     "iopub.execute_input": "2025-02-14T12:58:27.381788Z",
     "iopub.status.busy": "2025-02-14T12:58:27.381380Z",
     "iopub.status.idle": "2025-02-14T12:58:27.390869Z",
     "shell.execute_reply": "2025-02-14T12:58:27.389672Z",
     "shell.execute_reply.started": "2025-02-14T12:58:27.381760Z"
    }
   },
   "outputs": [],
   "source": [
    "data['Ship Mode'].value_counts()"
   ]
  },
  {
   "cell_type": "code",
   "execution_count": null,
   "metadata": {
    "execution": {
     "iopub.execute_input": "2025-02-14T12:58:27.393208Z",
     "iopub.status.busy": "2025-02-14T12:58:27.392759Z",
     "iopub.status.idle": "2025-02-14T12:58:27.427575Z",
     "shell.execute_reply": "2025-02-14T12:58:27.426531Z",
     "shell.execute_reply.started": "2025-02-14T12:58:27.393164Z"
    }
   },
   "outputs": [],
   "source": [
    "data[data['Ship Mode'] == 'Same Day']"
   ]
  },
  {
   "cell_type": "code",
   "execution_count": null,
   "metadata": {
    "execution": {
     "iopub.execute_input": "2025-02-14T12:58:27.786041Z",
     "iopub.status.busy": "2025-02-14T12:58:27.785704Z",
     "iopub.status.idle": "2025-02-14T12:58:28.077007Z",
     "shell.execute_reply": "2025-02-14T12:58:28.076089Z",
     "shell.execute_reply.started": "2025-02-14T12:58:27.786015Z"
    }
   },
   "outputs": [],
   "source": [
    "sns.barplot(data=data,x='Ship Mode', y='Profit')\n",
    "plt.show()"
   ]
  },
  {
   "cell_type": "code",
   "execution_count": null,
   "metadata": {
    "execution": {
     "iopub.execute_input": "2025-02-14T12:58:28.193168Z",
     "iopub.status.busy": "2025-02-14T12:58:28.192817Z",
     "iopub.status.idle": "2025-02-14T12:58:28.202713Z",
     "shell.execute_reply": "2025-02-14T12:58:28.201317Z",
     "shell.execute_reply.started": "2025-02-14T12:58:28.193140Z"
    }
   },
   "outputs": [],
   "source": [
    "data.Segment.value_counts()"
   ]
  },
  {
   "cell_type": "code",
   "execution_count": null,
   "metadata": {
    "execution": {
     "iopub.execute_input": "2025-02-14T12:58:28.877486Z",
     "iopub.status.busy": "2025-02-14T12:58:28.877109Z",
     "iopub.status.idle": "2025-02-14T12:58:29.133154Z",
     "shell.execute_reply": "2025-02-14T12:58:29.131955Z",
     "shell.execute_reply.started": "2025-02-14T12:58:28.877454Z"
    }
   },
   "outputs": [],
   "source": [
    "sns.barplot(data=data,x='Segment', y='Profit')\n",
    "plt.show()"
   ]
  },
  {
   "cell_type": "code",
   "execution_count": null,
   "metadata": {
    "execution": {
     "iopub.execute_input": "2025-02-14T12:58:30.208930Z",
     "iopub.status.busy": "2025-02-14T12:58:30.208590Z",
     "iopub.status.idle": "2025-02-14T12:58:30.216158Z",
     "shell.execute_reply": "2025-02-14T12:58:30.214857Z",
     "shell.execute_reply.started": "2025-02-14T12:58:30.208905Z"
    }
   },
   "outputs": [],
   "source": [
    "data.Country.nunique()"
   ]
  },
  {
   "cell_type": "code",
   "execution_count": null,
   "metadata": {
    "execution": {
     "iopub.execute_input": "2025-02-14T12:58:34.601852Z",
     "iopub.status.busy": "2025-02-14T12:58:34.601524Z",
     "iopub.status.idle": "2025-02-14T12:58:34.609852Z",
     "shell.execute_reply": "2025-02-14T12:58:34.608380Z",
     "shell.execute_reply.started": "2025-02-14T12:58:34.601828Z"
    }
   },
   "outputs": [],
   "source": [
    "data.City.nunique()"
   ]
  },
  {
   "cell_type": "code",
   "execution_count": null,
   "metadata": {
    "execution": {
     "iopub.execute_input": "2025-02-14T12:58:35.270441Z",
     "iopub.status.busy": "2025-02-14T12:58:35.269998Z",
     "iopub.status.idle": "2025-02-14T12:58:48.470545Z",
     "shell.execute_reply": "2025-02-14T12:58:48.468942Z",
     "shell.execute_reply.started": "2025-02-14T12:58:35.270408Z"
    }
   },
   "outputs": [],
   "source": [
    "sns.barplot(data=data,x='City', y='Sales')\n",
    "plt.show()"
   ]
  },
  {
   "cell_type": "code",
   "execution_count": null,
   "metadata": {
    "execution": {
     "iopub.execute_input": "2025-02-14T12:58:48.472616Z",
     "iopub.status.busy": "2025-02-14T12:58:48.472142Z",
     "iopub.status.idle": "2025-02-14T12:58:48.480850Z",
     "shell.execute_reply": "2025-02-14T12:58:48.479859Z",
     "shell.execute_reply.started": "2025-02-14T12:58:48.472564Z"
    }
   },
   "outputs": [],
   "source": [
    "data ['City'][data['Sales'] == data['Sales'].max()]"
   ]
  },
  {
   "cell_type": "code",
   "execution_count": null,
   "metadata": {
    "execution": {
     "iopub.execute_input": "2025-02-14T12:58:48.483462Z",
     "iopub.status.busy": "2025-02-14T12:58:48.483126Z",
     "iopub.status.idle": "2025-02-14T12:58:48.514075Z",
     "shell.execute_reply": "2025-02-14T12:58:48.512933Z",
     "shell.execute_reply.started": "2025-02-14T12:58:48.483435Z"
    }
   },
   "outputs": [],
   "source": [
    "data [data['Sales'] == data['Sales'].max()]"
   ]
  },
  {
   "cell_type": "code",
   "execution_count": null,
   "metadata": {
    "execution": {
     "iopub.execute_input": "2025-02-14T12:58:48.515819Z",
     "iopub.status.busy": "2025-02-14T12:58:48.515384Z",
     "iopub.status.idle": "2025-02-14T12:58:48.539508Z",
     "shell.execute_reply": "2025-02-14T12:58:48.538454Z",
     "shell.execute_reply.started": "2025-02-14T12:58:48.515781Z"
    }
   },
   "outputs": [],
   "source": [
    "data ['City'][data['Profit'] == data['Profit'].max()]"
   ]
  },
  {
   "cell_type": "code",
   "execution_count": null,
   "metadata": {
    "execution": {
     "iopub.execute_input": "2025-02-14T12:58:48.541000Z",
     "iopub.status.busy": "2025-02-14T12:58:48.540627Z",
     "iopub.status.idle": "2025-02-14T12:58:48.570661Z",
     "shell.execute_reply": "2025-02-14T12:58:48.569640Z",
     "shell.execute_reply.started": "2025-02-14T12:58:48.540972Z"
    }
   },
   "outputs": [],
   "source": [
    "data [data['Profit'] == data['Profit'].max()]"
   ]
  },
  {
   "cell_type": "code",
   "execution_count": null,
   "metadata": {
    "execution": {
     "iopub.execute_input": "2025-02-14T12:58:55.776783Z",
     "iopub.status.busy": "2025-02-14T12:58:55.776435Z",
     "iopub.status.idle": "2025-02-14T12:58:55.786370Z",
     "shell.execute_reply": "2025-02-14T12:58:55.784954Z",
     "shell.execute_reply.started": "2025-02-14T12:58:55.776756Z"
    }
   },
   "outputs": [],
   "source": [
    "data.State.value_counts()"
   ]
  },
  {
   "cell_type": "code",
   "execution_count": null,
   "metadata": {
    "execution": {
     "iopub.execute_input": "2025-02-14T12:58:59.039955Z",
     "iopub.status.busy": "2025-02-14T12:58:59.039596Z",
     "iopub.status.idle": "2025-02-14T12:58:59.048511Z",
     "shell.execute_reply": "2025-02-14T12:58:59.046769Z",
     "shell.execute_reply.started": "2025-02-14T12:58:59.039925Z"
    }
   },
   "outputs": [],
   "source": [
    "data.State.nunique()"
   ]
  },
  {
   "cell_type": "code",
   "execution_count": null,
   "metadata": {
    "execution": {
     "iopub.execute_input": "2025-02-14T12:58:59.640937Z",
     "iopub.status.busy": "2025-02-14T12:58:59.640606Z",
     "iopub.status.idle": "2025-02-14T12:58:59.646102Z",
     "shell.execute_reply": "2025-02-14T12:58:59.644652Z",
     "shell.execute_reply.started": "2025-02-14T12:58:59.640912Z"
    }
   },
   "outputs": [],
   "source": [
    "import numpy as np"
   ]
  },
  {
   "cell_type": "code",
   "execution_count": null,
   "metadata": {
    "execution": {
     "iopub.execute_input": "2025-02-13T18:43:59.338008Z",
     "iopub.status.busy": "2025-02-13T18:43:59.337651Z",
     "iopub.status.idle": "2025-02-13T18:44:00.830175Z",
     "shell.execute_reply": "2025-02-13T18:44:00.828894Z",
     "shell.execute_reply.started": "2025-02-13T18:43:59.337973Z"
    }
   },
   "outputs": [],
   "source": [
    "sns.barplot(data=data,x='State', y='Sales', estimator=np.mean)\n",
    "plt.show()"
   ]
  },
  {
   "cell_type": "code",
   "execution_count": null,
   "metadata": {
    "execution": {
     "iopub.execute_input": "2025-02-13T18:44:33.746607Z",
     "iopub.status.busy": "2025-02-13T18:44:33.746268Z",
     "iopub.status.idle": "2025-02-13T18:44:33.754924Z",
     "shell.execute_reply": "2025-02-13T18:44:33.753919Z",
     "shell.execute_reply.started": "2025-02-13T18:44:33.746582Z"
    }
   },
   "outputs": [],
   "source": [
    "data ['State'][data['Sales'] == data['Sales'].max()]"
   ]
  },
  {
   "cell_type": "code",
   "execution_count": null,
   "metadata": {
    "execution": {
     "iopub.execute_input": "2025-02-13T18:44:41.738417Z",
     "iopub.status.busy": "2025-02-13T18:44:41.738019Z",
     "iopub.status.idle": "2025-02-13T18:44:41.754718Z",
     "shell.execute_reply": "2025-02-13T18:44:41.753567Z",
     "shell.execute_reply.started": "2025-02-13T18:44:41.738386Z"
    }
   },
   "outputs": [],
   "source": [
    "data [data['Sales'] == data['Sales'].max()]"
   ]
  },
  {
   "cell_type": "code",
   "execution_count": null,
   "metadata": {
    "execution": {
     "iopub.execute_input": "2025-02-13T18:45:00.970482Z",
     "iopub.status.busy": "2025-02-13T18:45:00.969990Z",
     "iopub.status.idle": "2025-02-13T18:45:00.979397Z",
     "shell.execute_reply": "2025-02-13T18:45:00.978325Z",
     "shell.execute_reply.started": "2025-02-13T18:45:00.970442Z"
    }
   },
   "outputs": [],
   "source": [
    "data ['State'][data['Profit'] == data['Profit'].max()]"
   ]
  },
  {
   "cell_type": "code",
   "execution_count": null,
   "metadata": {
    "execution": {
     "iopub.execute_input": "2025-02-13T18:45:12.216122Z",
     "iopub.status.busy": "2025-02-13T18:45:12.215762Z",
     "iopub.status.idle": "2025-02-13T18:45:12.232813Z",
     "shell.execute_reply": "2025-02-13T18:45:12.231317Z",
     "shell.execute_reply.started": "2025-02-13T18:45:12.216091Z"
    }
   },
   "outputs": [],
   "source": [
    "data [data['Profit'] == data['Profit'].max()]"
   ]
  },
  {
   "cell_type": "code",
   "execution_count": null,
   "metadata": {
    "execution": {
     "iopub.execute_input": "2025-02-13T18:45:31.580800Z",
     "iopub.status.busy": "2025-02-13T18:45:31.580467Z",
     "iopub.status.idle": "2025-02-13T18:45:31.589076Z",
     "shell.execute_reply": "2025-02-13T18:45:31.588149Z",
     "shell.execute_reply.started": "2025-02-13T18:45:31.580765Z"
    }
   },
   "outputs": [],
   "source": [
    "data.Region.value_counts()"
   ]
  },
  {
   "cell_type": "code",
   "execution_count": null,
   "metadata": {
    "execution": {
     "iopub.execute_input": "2025-02-13T18:45:44.983230Z",
     "iopub.status.busy": "2025-02-13T18:45:44.982819Z",
     "iopub.status.idle": "2025-02-13T18:45:45.283341Z",
     "shell.execute_reply": "2025-02-13T18:45:45.282147Z",
     "shell.execute_reply.started": "2025-02-13T18:45:44.983180Z"
    }
   },
   "outputs": [],
   "source": [
    "sns.barplot(data=data,x='Region', y='Profit')\n",
    "plt.show()"
   ]
  },
  {
   "cell_type": "code",
   "execution_count": null,
   "metadata": {
    "execution": {
     "iopub.execute_input": "2025-02-13T18:45:57.589343Z",
     "iopub.status.busy": "2025-02-13T18:45:57.588944Z",
     "iopub.status.idle": "2025-02-13T18:45:57.878975Z",
     "shell.execute_reply": "2025-02-13T18:45:57.877873Z",
     "shell.execute_reply.started": "2025-02-13T18:45:57.589314Z"
    }
   },
   "outputs": [],
   "source": [
    "sns.barplot(data=data,x='Region', y='Sales')\n",
    "plt.show()"
   ]
  },
  {
   "cell_type": "code",
   "execution_count": null,
   "metadata": {
    "execution": {
     "iopub.execute_input": "2025-02-13T18:46:24.258135Z",
     "iopub.status.busy": "2025-02-13T18:46:24.257797Z",
     "iopub.status.idle": "2025-02-13T18:46:24.266634Z",
     "shell.execute_reply": "2025-02-13T18:46:24.265536Z",
     "shell.execute_reply.started": "2025-02-13T18:46:24.258109Z"
    }
   },
   "outputs": [],
   "source": [
    "data.Category.value_counts()"
   ]
  },
  {
   "cell_type": "code",
   "execution_count": null,
   "metadata": {
    "execution": {
     "iopub.execute_input": "2025-02-13T18:46:40.914106Z",
     "iopub.status.busy": "2025-02-13T18:46:40.913752Z",
     "iopub.status.idle": "2025-02-13T18:46:41.171067Z",
     "shell.execute_reply": "2025-02-13T18:46:41.170025Z",
     "shell.execute_reply.started": "2025-02-13T18:46:40.914077Z"
    }
   },
   "outputs": [],
   "source": [
    "sns.barplot(data=data,x='Category', y='Sales')\n",
    "plt.show()"
   ]
  },
  {
   "cell_type": "code",
   "execution_count": null,
   "metadata": {
    "execution": {
     "iopub.execute_input": "2025-02-13T18:46:58.868064Z",
     "iopub.status.busy": "2025-02-13T18:46:58.867708Z",
     "iopub.status.idle": "2025-02-13T18:46:59.133695Z",
     "shell.execute_reply": "2025-02-13T18:46:59.132575Z",
     "shell.execute_reply.started": "2025-02-13T18:46:58.868037Z"
    }
   },
   "outputs": [],
   "source": [
    "sns.barplot(data=data,x='Category', y='Profit')\n",
    "plt.show()"
   ]
  },
  {
   "cell_type": "code",
   "execution_count": null,
   "metadata": {
    "execution": {
     "iopub.execute_input": "2025-02-13T18:47:20.072482Z",
     "iopub.status.busy": "2025-02-13T18:47:20.072122Z",
     "iopub.status.idle": "2025-02-13T18:47:20.090000Z",
     "shell.execute_reply": "2025-02-13T18:47:20.089014Z",
     "shell.execute_reply.started": "2025-02-13T18:47:20.072456Z"
    }
   },
   "outputs": [],
   "source": [
    "data"
   ]
  },
  {
   "cell_type": "code",
   "execution_count": null,
   "metadata": {
    "execution": {
     "iopub.execute_input": "2025-02-13T18:47:44.749303Z",
     "iopub.status.busy": "2025-02-13T18:47:44.748904Z",
     "iopub.status.idle": "2025-02-13T18:47:44.758453Z",
     "shell.execute_reply": "2025-02-13T18:47:44.757343Z",
     "shell.execute_reply.started": "2025-02-13T18:47:44.749272Z"
    }
   },
   "outputs": [],
   "source": [
    "data['Sub-Category'].value_counts()"
   ]
  },
  {
   "cell_type": "code",
   "execution_count": null,
   "metadata": {
    "execution": {
     "iopub.execute_input": "2025-02-13T18:49:11.982258Z",
     "iopub.status.busy": "2025-02-13T18:49:11.981860Z",
     "iopub.status.idle": "2025-02-13T18:49:11.988859Z",
     "shell.execute_reply": "2025-02-13T18:49:11.987919Z",
     "shell.execute_reply.started": "2025-02-13T18:49:11.982228Z"
    }
   },
   "outputs": [],
   "source": [
    "data['Sub-Category'].nunique()"
   ]
  },
  {
   "cell_type": "code",
   "execution_count": null,
   "metadata": {
    "execution": {
     "iopub.execute_input": "2025-02-13T18:50:27.909797Z",
     "iopub.status.busy": "2025-02-13T18:50:27.909456Z",
     "iopub.status.idle": "2025-02-13T18:50:27.919807Z",
     "shell.execute_reply": "2025-02-13T18:50:27.918806Z",
     "shell.execute_reply.started": "2025-02-13T18:50:27.909762Z"
    }
   },
   "outputs": [],
   "source": [
    "data.groupby('Category')['Sub-Category'].nunique()"
   ]
  },
  {
   "cell_type": "code",
   "execution_count": null,
   "metadata": {
    "execution": {
     "iopub.execute_input": "2025-02-13T18:51:47.199186Z",
     "iopub.status.busy": "2025-02-13T18:51:47.198819Z",
     "iopub.status.idle": "2025-02-13T18:51:47.213191Z",
     "shell.execute_reply": "2025-02-13T18:51:47.212065Z",
     "shell.execute_reply.started": "2025-02-13T18:51:47.199154Z"
    }
   },
   "outputs": [],
   "source": [
    "numerical_cols"
   ]
  },
  {
   "cell_type": "code",
   "execution_count": null,
   "metadata": {
    "execution": {
     "iopub.execute_input": "2025-02-14T13:02:13.132751Z",
     "iopub.status.busy": "2025-02-14T13:02:13.132322Z",
     "iopub.status.idle": "2025-02-14T13:02:13.139642Z",
     "shell.execute_reply": "2025-02-14T13:02:13.138430Z",
     "shell.execute_reply.started": "2025-02-14T13:02:13.132721Z"
    }
   },
   "outputs": [],
   "source": [
    "numerical_cols = data.select_dtypes('number') # to remove the postal code from the numerical cols"
   ]
  },
  {
   "cell_type": "code",
   "execution_count": null,
   "metadata": {
    "execution": {
     "iopub.execute_input": "2025-02-14T13:02:13.873831Z",
     "iopub.status.busy": "2025-02-14T13:02:13.873444Z",
     "iopub.status.idle": "2025-02-14T13:02:13.889089Z",
     "shell.execute_reply": "2025-02-14T13:02:13.887964Z",
     "shell.execute_reply.started": "2025-02-14T13:02:13.873804Z"
    }
   },
   "outputs": [],
   "source": [
    "numerical_cols"
   ]
  },
  {
   "cell_type": "code",
   "execution_count": null,
   "metadata": {
    "execution": {
     "iopub.execute_input": "2025-02-13T18:53:16.745230Z",
     "iopub.status.busy": "2025-02-13T18:53:16.744837Z",
     "iopub.status.idle": "2025-02-13T18:53:16.767540Z",
     "shell.execute_reply": "2025-02-13T18:53:16.766311Z",
     "shell.execute_reply.started": "2025-02-13T18:53:16.745174Z"
    }
   },
   "outputs": [],
   "source": [
    "numerical_cols.describe()"
   ]
  },
  {
   "cell_type": "code",
   "execution_count": null,
   "metadata": {
    "execution": {
     "iopub.execute_input": "2025-02-14T12:59:22.717327Z",
     "iopub.status.busy": "2025-02-14T12:59:22.716972Z",
     "iopub.status.idle": "2025-02-14T12:59:22.726190Z",
     "shell.execute_reply": "2025-02-14T12:59:22.724713Z",
     "shell.execute_reply.started": "2025-02-14T12:59:22.717299Z"
    }
   },
   "outputs": [],
   "source": [
    "data.Discount = data.Discount *100"
   ]
  },
  {
   "cell_type": "code",
   "execution_count": null,
   "metadata": {
    "execution": {
     "iopub.execute_input": "2025-02-14T12:59:23.417518Z",
     "iopub.status.busy": "2025-02-14T12:59:23.417085Z",
     "iopub.status.idle": "2025-02-14T12:59:23.422928Z",
     "shell.execute_reply": "2025-02-14T12:59:23.421844Z",
     "shell.execute_reply.started": "2025-02-14T12:59:23.417483Z"
    }
   },
   "outputs": [],
   "source": [
    "numerical_cols.Discount = data.Discount"
   ]
  },
  {
   "cell_type": "code",
   "execution_count": null,
   "metadata": {
    "execution": {
     "iopub.execute_input": "2025-02-14T12:59:25.443520Z",
     "iopub.status.busy": "2025-02-14T12:59:25.443134Z",
     "iopub.status.idle": "2025-02-14T12:59:25.457782Z",
     "shell.execute_reply": "2025-02-14T12:59:25.456544Z",
     "shell.execute_reply.started": "2025-02-14T12:59:25.443489Z"
    }
   },
   "outputs": [],
   "source": [
    "numerical_cols"
   ]
  },
  {
   "cell_type": "code",
   "execution_count": null,
   "metadata": {
    "execution": {
     "iopub.execute_input": "2025-02-13T19:00:57.567077Z",
     "iopub.status.busy": "2025-02-13T19:00:57.566703Z",
     "iopub.status.idle": "2025-02-13T19:00:57.575699Z",
     "shell.execute_reply": "2025-02-13T19:00:57.573288Z",
     "shell.execute_reply.started": "2025-02-13T19:00:57.567049Z"
    }
   },
   "outputs": [],
   "source": [
    "'''\n",
    "for i in data:\n",
    "    if data['Profit'] < 0:\n",
    "        data['Profit'] = data['Profit'].abs()\n",
    "        data['loss'] = True\n",
    "    else:\n",
    "        data['loss'] = False \n",
    "'''"
   ]
  },
  {
   "cell_type": "code",
   "execution_count": null,
   "metadata": {
    "execution": {
     "iopub.execute_input": "2025-02-14T12:59:31.467035Z",
     "iopub.status.busy": "2025-02-14T12:59:31.466714Z",
     "iopub.status.idle": "2025-02-14T12:59:31.472988Z",
     "shell.execute_reply": "2025-02-14T12:59:31.471742Z",
     "shell.execute_reply.started": "2025-02-14T12:59:31.467010Z"
    }
   },
   "outputs": [],
   "source": [
    "data['loss'] = data['Profit'] < 0 #loss column will be True if profit is less than zero"
   ]
  },
  {
   "cell_type": "code",
   "execution_count": null,
   "metadata": {
    "execution": {
     "iopub.execute_input": "2025-02-14T12:59:33.298369Z",
     "iopub.status.busy": "2025-02-14T12:59:33.298041Z",
     "iopub.status.idle": "2025-02-14T12:59:33.319882Z",
     "shell.execute_reply": "2025-02-14T12:59:33.318647Z",
     "shell.execute_reply.started": "2025-02-14T12:59:33.298344Z"
    }
   },
   "outputs": [],
   "source": [
    "data"
   ]
  },
  {
   "cell_type": "markdown",
   "metadata": {},
   "source": [
    "<h2>Multi-varient Analysis</h2>"
   ]
  },
  {
   "cell_type": "code",
   "execution_count": null,
   "metadata": {
    "execution": {
     "iopub.execute_input": "2025-02-13T19:14:12.471768Z",
     "iopub.status.busy": "2025-02-13T19:14:12.471418Z",
     "iopub.status.idle": "2025-02-13T19:14:12.487259Z",
     "shell.execute_reply": "2025-02-13T19:14:12.486221Z",
     "shell.execute_reply.started": "2025-02-13T19:14:12.471737Z"
    }
   },
   "outputs": [],
   "source": [
    "#Top 10 cities in Profit\n",
    "top10_cityProfit = data.groupby('City', as_index=False)['Profit'].sum().nlargest(10,'Profit')\n",
    "top10_cityProfit"
   ]
  },
  {
   "cell_type": "code",
   "execution_count": null,
   "metadata": {
    "execution": {
     "iopub.execute_input": "2025-02-13T19:16:06.144962Z",
     "iopub.status.busy": "2025-02-13T19:16:06.144594Z",
     "iopub.status.idle": "2025-02-13T19:16:06.157789Z",
     "shell.execute_reply": "2025-02-13T19:16:06.156434Z",
     "shell.execute_reply.started": "2025-02-13T19:16:06.144926Z"
    }
   },
   "outputs": [],
   "source": [
    "#How much discount on average you get on chosen Ship Mode\n",
    "data.groupby('Ship Mode', as_index = False)['Discount'].mean()"
   ]
  },
  {
   "cell_type": "code",
   "execution_count": null,
   "metadata": {
    "execution": {
     "iopub.execute_input": "2025-02-13T19:17:27.041310Z",
     "iopub.status.busy": "2025-02-13T19:17:27.040871Z",
     "iopub.status.idle": "2025-02-13T19:17:27.057815Z",
     "shell.execute_reply": "2025-02-13T19:17:27.056506Z",
     "shell.execute_reply.started": "2025-02-13T19:17:27.041274Z"
    }
   },
   "outputs": [],
   "source": [
    "#relation between quantity bought and discount\n",
    "data.groupby('Quantity', as_index = False)['Discount'].mean()"
   ]
  },
  {
   "cell_type": "code",
   "execution_count": null,
   "metadata": {
    "execution": {
     "iopub.execute_input": "2025-02-13T19:18:30.157775Z",
     "iopub.status.busy": "2025-02-13T19:18:30.157437Z",
     "iopub.status.idle": "2025-02-13T19:18:30.170623Z",
     "shell.execute_reply": "2025-02-13T19:18:30.169517Z",
     "shell.execute_reply.started": "2025-02-13T19:18:30.157747Z"
    }
   },
   "outputs": [],
   "source": [
    "#relation between loss and discount\n",
    "data.groupby('loss', as_index = False)['Discount'].mean()"
   ]
  },
  {
   "cell_type": "code",
   "execution_count": null,
   "metadata": {
    "execution": {
     "iopub.execute_input": "2025-02-13T19:20:13.298517Z",
     "iopub.status.busy": "2025-02-13T19:20:13.298132Z",
     "iopub.status.idle": "2025-02-13T19:20:13.312360Z",
     "shell.execute_reply": "2025-02-13T19:20:13.311016Z",
     "shell.execute_reply.started": "2025-02-13T19:20:13.298487Z"
    }
   },
   "outputs": [],
   "source": [
    "#relation between sub categories and discount\n",
    "data.groupby('Sub-Category', as_index = False)['Discount'].mean()"
   ]
  },
  {
   "cell_type": "code",
   "execution_count": null,
   "metadata": {
    "execution": {
     "iopub.execute_input": "2025-02-13T19:22:18.327602Z",
     "iopub.status.busy": "2025-02-13T19:22:18.327282Z",
     "iopub.status.idle": "2025-02-13T19:22:18.334505Z",
     "shell.execute_reply": "2025-02-13T19:22:18.333622Z",
     "shell.execute_reply.started": "2025-02-13T19:22:18.327576Z"
    }
   },
   "outputs": [],
   "source": [
    "#what are the most sub categories that profits\n",
    "sub_Profit = data.groupby('Sub-Category', as_index = False)['Profit'].max()"
   ]
  },
  {
   "cell_type": "code",
   "execution_count": null,
   "metadata": {
    "execution": {
     "iopub.execute_input": "2025-02-13T19:24:27.075942Z",
     "iopub.status.busy": "2025-02-13T19:24:27.075574Z",
     "iopub.status.idle": "2025-02-13T19:24:27.081097Z",
     "shell.execute_reply": "2025-02-13T19:24:27.080195Z",
     "shell.execute_reply.started": "2025-02-13T19:24:27.075914Z"
    }
   },
   "outputs": [],
   "source": [
    "sub_Profit.sort_values(by=['Profit'], inplace = True, ascending=False)"
   ]
  },
  {
   "cell_type": "code",
   "execution_count": null,
   "metadata": {
    "execution": {
     "iopub.execute_input": "2025-02-13T19:24:27.763781Z",
     "iopub.status.busy": "2025-02-13T19:24:27.763451Z",
     "iopub.status.idle": "2025-02-13T19:24:27.773483Z",
     "shell.execute_reply": "2025-02-13T19:24:27.772493Z",
     "shell.execute_reply.started": "2025-02-13T19:24:27.763747Z"
    }
   },
   "outputs": [],
   "source": [
    "sub_Profit"
   ]
  },
  {
   "cell_type": "code",
   "execution_count": null,
   "metadata": {
    "execution": {
     "iopub.execute_input": "2025-02-13T19:30:58.758938Z",
     "iopub.status.busy": "2025-02-13T19:30:58.758585Z",
     "iopub.status.idle": "2025-02-13T19:30:58.778050Z",
     "shell.execute_reply": "2025-02-13T19:30:58.777024Z",
     "shell.execute_reply.started": "2025-02-13T19:30:58.758911Z"
    }
   },
   "outputs": [],
   "source": [
    "#ship modes to each Region\n",
    "pd.crosstab(data['Ship Mode'],data['Region'])"
   ]
  },
  {
   "cell_type": "code",
   "execution_count": null,
   "metadata": {
    "execution": {
     "iopub.execute_input": "2025-02-13T19:31:29.045933Z",
     "iopub.status.busy": "2025-02-13T19:31:29.045584Z",
     "iopub.status.idle": "2025-02-13T19:31:29.064839Z",
     "shell.execute_reply": "2025-02-13T19:31:29.063467Z",
     "shell.execute_reply.started": "2025-02-13T19:31:29.045906Z"
    }
   },
   "outputs": [],
   "source": [
    "#ship modes to each category\n",
    "pd.crosstab(data['Ship Mode'],data['Category'])"
   ]
  },
  {
   "cell_type": "code",
   "execution_count": null,
   "metadata": {
    "execution": {
     "iopub.execute_input": "2025-02-13T19:32:47.491632Z",
     "iopub.status.busy": "2025-02-13T19:32:47.491306Z",
     "iopub.status.idle": "2025-02-13T19:32:47.514057Z",
     "shell.execute_reply": "2025-02-13T19:32:47.513048Z",
     "shell.execute_reply.started": "2025-02-13T19:32:47.491608Z"
    }
   },
   "outputs": [],
   "source": [
    "pd.crosstab(data['Category'],data['Sub-Category'])"
   ]
  },
  {
   "cell_type": "code",
   "execution_count": null,
   "metadata": {
    "execution": {
     "iopub.execute_input": "2025-02-13T19:34:40.873863Z",
     "iopub.status.busy": "2025-02-13T19:34:40.873489Z",
     "iopub.status.idle": "2025-02-13T19:34:40.887129Z",
     "shell.execute_reply": "2025-02-13T19:34:40.885993Z",
     "shell.execute_reply.started": "2025-02-13T19:34:40.873832Z"
    }
   },
   "outputs": [],
   "source": [
    "data.groupby('Category', as_index = False)['Sub-Category'].nunique()"
   ]
  },
  {
   "cell_type": "code",
   "execution_count": null,
   "metadata": {
    "execution": {
     "iopub.execute_input": "2025-02-13T19:36:34.683913Z",
     "iopub.status.busy": "2025-02-13T19:36:34.683578Z",
     "iopub.status.idle": "2025-02-13T19:36:34.703486Z",
     "shell.execute_reply": "2025-02-13T19:36:34.702542Z",
     "shell.execute_reply.started": "2025-02-13T19:36:34.683888Z"
    }
   },
   "outputs": [],
   "source": [
    "#customers in each region\n",
    "pd.crosstab(data['Segment'], data['Region'])"
   ]
  },
  {
   "cell_type": "code",
   "execution_count": null,
   "metadata": {
    "execution": {
     "iopub.execute_input": "2025-02-13T19:38:54.472971Z",
     "iopub.status.busy": "2025-02-13T19:38:54.472604Z",
     "iopub.status.idle": "2025-02-13T19:38:54.494084Z",
     "shell.execute_reply": "2025-02-13T19:38:54.492703Z",
     "shell.execute_reply.started": "2025-02-13T19:38:54.472944Z"
    }
   },
   "outputs": [],
   "source": [
    "#Which type of customers are most concerned with product categories\n",
    "pd.crosstab(data['Segment'], data['Category'])"
   ]
  },
  {
   "cell_type": "code",
   "execution_count": null,
   "metadata": {
    "execution": {
     "iopub.execute_input": "2025-02-13T19:40:09.860477Z",
     "iopub.status.busy": "2025-02-13T19:40:09.860101Z",
     "iopub.status.idle": "2025-02-13T19:40:09.884671Z",
     "shell.execute_reply": "2025-02-13T19:40:09.883637Z",
     "shell.execute_reply.started": "2025-02-13T19:40:09.860450Z"
    }
   },
   "outputs": [],
   "source": [
    "#Which type of customers are most concerned with product categories\n",
    "pd.crosstab(data['Segment'], data['Sub-Category'])"
   ]
  },
  {
   "cell_type": "markdown",
   "metadata": {},
   "source": [
    "<h2>Correlation</h2>"
   ]
  },
  {
   "cell_type": "code",
   "execution_count": null,
   "metadata": {
    "execution": {
     "iopub.execute_input": "2025-02-14T13:02:18.631622Z",
     "iopub.status.busy": "2025-02-14T13:02:18.631178Z",
     "iopub.status.idle": "2025-02-14T13:02:18.642549Z",
     "shell.execute_reply": "2025-02-14T13:02:18.641341Z",
     "shell.execute_reply.started": "2025-02-14T13:02:18.631588Z"
    }
   },
   "outputs": [],
   "source": [
    "print(numerical_cols.corr())"
   ]
  },
  {
   "cell_type": "code",
   "execution_count": null,
   "metadata": {
    "execution": {
     "iopub.execute_input": "2025-02-14T13:03:13.765194Z",
     "iopub.status.busy": "2025-02-14T13:03:13.764847Z",
     "iopub.status.idle": "2025-02-14T13:03:30.962812Z",
     "shell.execute_reply": "2025-02-14T13:03:30.961543Z",
     "shell.execute_reply.started": "2025-02-14T13:03:13.765165Z"
    }
   },
   "outputs": [],
   "source": [
    "sns.pairplot(data=numerical_cols)"
   ]
  },
  {
   "cell_type": "code",
   "execution_count": null,
   "metadata": {
    "execution": {
     "iopub.execute_input": "2025-02-14T13:04:59.956323Z",
     "iopub.status.busy": "2025-02-14T13:04:59.955947Z",
     "iopub.status.idle": "2025-02-14T13:05:11.023603Z",
     "shell.execute_reply": "2025-02-14T13:05:11.022080Z",
     "shell.execute_reply.started": "2025-02-14T13:04:59.956292Z"
    }
   },
   "outputs": [],
   "source": [
    "sns.pairplot(data=numerical_cols, vars=['Profit','Discount'])"
   ]
  },
  {
   "cell_type": "code",
   "execution_count": null,
   "metadata": {
    "execution": {
     "iopub.execute_input": "2025-02-14T13:06:10.585904Z",
     "iopub.status.busy": "2025-02-14T13:06:10.585575Z",
     "iopub.status.idle": "2025-02-14T13:06:10.892432Z",
     "shell.execute_reply": "2025-02-14T13:06:10.891161Z",
     "shell.execute_reply.started": "2025-02-14T13:06:10.585880Z"
    }
   },
   "outputs": [],
   "source": [
    "sns.heatmap(numerical_cols.corr(), annot=True)"
   ]
  },
  {
   "cell_type": "code",
   "execution_count": null,
   "metadata": {
    "execution": {
     "iopub.execute_input": "2025-02-14T13:07:18.015205Z",
     "iopub.status.busy": "2025-02-14T13:07:18.014820Z",
     "iopub.status.idle": "2025-02-14T13:07:18.019812Z",
     "shell.execute_reply": "2025-02-14T13:07:18.018252Z",
     "shell.execute_reply.started": "2025-02-14T13:07:18.015169Z"
    }
   },
   "outputs": [],
   "source": [
    "#relation above 70%? false\n",
    "#relation above 90%? false"
   ]
  },
  {
   "cell_type": "code",
   "execution_count": null,
   "metadata": {
    "execution": {
     "iopub.execute_input": "2025-02-14T13:08:35.545301Z",
     "iopub.status.busy": "2025-02-14T13:08:35.544936Z",
     "iopub.status.idle": "2025-02-14T13:08:35.843984Z",
     "shell.execute_reply": "2025-02-14T13:08:35.842791Z",
     "shell.execute_reply.started": "2025-02-14T13:08:35.545275Z"
    }
   },
   "outputs": [],
   "source": [
    "#relation between profit and quantity in heatmap is weak, make sure with scatter plot\n",
    "sns.scatterplot(data=data, x='Profit', y='Quantity')"
   ]
  },
  {
   "cell_type": "code",
   "execution_count": null,
   "metadata": {
    "execution": {
     "iopub.execute_input": "2025-02-14T13:10:35.346880Z",
     "iopub.status.busy": "2025-02-14T13:10:35.346498Z",
     "iopub.status.idle": "2025-02-14T13:10:35.614510Z",
     "shell.execute_reply": "2025-02-14T13:10:35.612982Z",
     "shell.execute_reply.started": "2025-02-14T13:10:35.346852Z"
    }
   },
   "outputs": [],
   "source": [
    "#relation between profit and sales in heatmap is strong (almost 50%), make sure with scatter plot\n",
    "sns.scatterplot(data=data, x='Profit', y='Sales')"
   ]
  },
  {
   "cell_type": "code",
   "execution_count": null,
   "metadata": {
    "execution": {
     "iopub.execute_input": "2025-02-14T13:11:33.396697Z",
     "iopub.status.busy": "2025-02-14T13:11:33.396283Z",
     "iopub.status.idle": "2025-02-14T13:11:33.680040Z",
     "shell.execute_reply": "2025-02-14T13:11:33.678756Z",
     "shell.execute_reply.started": "2025-02-14T13:11:33.396666Z"
    }
   },
   "outputs": [],
   "source": [
    "#relation between quantity and discount in heatmap is too weak, make sure with scatter plot\n",
    "sns.scatterplot(data=data, x='Quantity', y='Discount')"
   ]
  },
  {
   "cell_type": "markdown",
   "metadata": {},
   "source": [
    "<h2>Saving Data</h2>"
   ]
  },
  {
   "cell_type": "code",
   "execution_count": null,
   "metadata": {
    "execution": {
     "iopub.execute_input": "2025-02-14T13:12:38.970900Z",
     "iopub.status.busy": "2025-02-14T13:12:38.970500Z",
     "iopub.status.idle": "2025-02-14T13:12:38.999336Z",
     "shell.execute_reply": "2025-02-14T13:12:38.997022Z",
     "shell.execute_reply.started": "2025-02-14T13:12:38.970870Z"
    }
   },
   "outputs": [],
   "source": [
    "data"
   ]
  },
  {
   "cell_type": "code",
   "execution_count": null,
   "metadata": {
    "execution": {
     "iopub.execute_input": "2025-02-14T13:34:45.328499Z",
     "iopub.status.busy": "2025-02-14T13:34:45.327899Z",
     "iopub.status.idle": "2025-02-14T13:34:45.411897Z",
     "shell.execute_reply": "2025-02-14T13:34:45.410771Z",
     "shell.execute_reply.started": "2025-02-14T13:34:45.328437Z"
    }
   },
   "outputs": [],
   "source": [
    "file_path = \"/kaggle/working/cleaned_dataset.csv\"\n",
    "data.to_csv(file_path, index=False)\n",
    "\n",
    "print(f\"File saved successfully at {file_path}\")"
   ]
  },
  {
   "cell_type": "code",
   "execution_count": null,
   "metadata": {
    "execution": {
     "iopub.execute_input": "2025-02-14T13:36:35.480542Z",
     "iopub.status.busy": "2025-02-14T13:36:35.480089Z",
     "iopub.status.idle": "2025-02-14T13:36:35.486543Z",
     "shell.execute_reply": "2025-02-14T13:36:35.485300Z",
     "shell.execute_reply.started": "2025-02-14T13:36:35.480512Z"
    }
   },
   "outputs": [],
   "source": [
    "import os\n",
    "print(os.listdir(\"/kaggle/working/\")) "
   ]
  },
  {
   "cell_type": "code",
   "execution_count": null,
   "metadata": {},
   "outputs": [],
   "source": []
  }
 ],
 "metadata": {
  "kaggle": {
   "accelerator": "none",
   "dataSources": [
    {
     "datasetId": 782034,
     "sourceId": 1344824,
     "sourceType": "datasetVersion"
    }
   ],
   "dockerImageVersionId": 30886,
   "isGpuEnabled": false,
   "isInternetEnabled": true,
   "language": "python",
   "sourceType": "notebook"
  },
  "kernelspec": {
   "display_name": "Python 3 (ipykernel)",
   "language": "python",
   "name": "python3"
  },
  "language_info": {
   "codemirror_mode": {
    "name": "ipython",
    "version": 3
   },
   "file_extension": ".py",
   "mimetype": "text/x-python",
   "name": "python",
   "nbconvert_exporter": "python",
   "pygments_lexer": "ipython3",
   "version": "3.12.4"
  }
 },
 "nbformat": 4,
 "nbformat_minor": 4
}
